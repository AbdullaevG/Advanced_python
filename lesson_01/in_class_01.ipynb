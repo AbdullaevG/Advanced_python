{
 "cells": [
  {
   "cell_type": "code",
   "execution_count": 1,
   "id": "23de9647",
   "metadata": {},
   "outputs": [],
   "source": [
    "import logging"
   ]
  },
  {
   "cell_type": "code",
   "execution_count": 2,
   "id": "09ab7558",
   "metadata": {},
   "outputs": [
    {
     "data": {
      "text/plain": [
       "(20, 10, 40)"
      ]
     },
     "execution_count": 2,
     "metadata": {},
     "output_type": "execute_result"
    }
   ],
   "source": [
    "logging.INFO, logging.DEBUG, logging.ERROR,"
   ]
  },
  {
   "cell_type": "code",
   "execution_count": 3,
   "id": "8fc5b22a",
   "metadata": {},
   "outputs": [
    {
     "name": "stderr",
     "output_type": "stream",
     "text": [
      "WARNING:root:And this, too\n"
     ]
    }
   ],
   "source": [
    "logging.debug(\"This message should go to the log file\")\n",
    "logging.info(\"So should this\")\n",
    "logging.warning(\"And this, too\")"
   ]
  },
  {
   "cell_type": "code",
   "execution_count": 6,
   "id": "4e32aaa4",
   "metadata": {},
   "outputs": [],
   "source": [
    "logger.info(\"jf\")"
   ]
  },
  {
   "cell_type": "code",
   "execution_count": 1,
   "id": "1bdec625",
   "metadata": {},
   "outputs": [],
   "source": [
    "import logging\n",
    "logging.basicConfig(\n",
    "     filename=\"example.log\",\n",
    "     level=logging.DEBUG,\n",
    "     format=\"%(asctime)s\\t%(levelname)s\\t%(message)s\"\n",
    "    )"
   ]
  },
  {
   "cell_type": "code",
   "execution_count": 2,
   "id": "fbd9aad1",
   "metadata": {},
   "outputs": [],
   "source": [
    "logging.debug(\"This message should go to the log file\")\n",
    "logging.info(\"So should this\")\n",
    "logging.warning(\"And this, too\")"
   ]
  },
  {
   "cell_type": "code",
   "execution_count": 4,
   "id": "cf417b4c",
   "metadata": {},
   "outputs": [
    {
     "data": {
      "text/plain": [
       "'1, 100'"
      ]
     },
     "execution_count": 4,
     "metadata": {},
     "output_type": "execute_result"
    }
   ],
   "source": [
    "\"%s, %s\" % (1, 100)"
   ]
  },
  {
   "cell_type": "code",
   "execution_count": 5,
   "id": "ff26944e",
   "metadata": {},
   "outputs": [
    {
     "data": {
      "text/plain": [
       "'1, 100'"
      ]
     },
     "execution_count": 5,
     "metadata": {},
     "output_type": "execute_result"
    }
   ],
   "source": [
    "\"%(key_1)s, %(key_2)s\" % {\"key_1\": 1, \"key_2\": 100}"
   ]
  },
  {
   "cell_type": "code",
   "execution_count": 6,
   "id": "ad7f8860",
   "metadata": {},
   "outputs": [
    {
     "name": "stderr",
     "output_type": "stream",
     "text": [
      "2022-12-12 15:19:34,337\tDEBUG\ttotal\tdebug_total\n",
      "2022-12-12 15:19:34,343\tINFO\ttotal\tinfo_total\n",
      "2022-12-12 15:19:34,346\tERROR\ttotal\terror_total\n"
     ]
    }
   ],
   "source": [
    "import logging\n",
    "import logging.config\n",
    "\n",
    "log_conf = {\n",
    "    \"version\": 1,\n",
    "    \"formatters\": {\n",
    "        \"simple\": {\"format\": \"%(asctime)s\\t%(levelname)s\\t%(message)s\"},\n",
    "        \"processed\": {\"format\": \"%(asctime)s\\t%(levelname)s\\t%(name)s\\t%(message)s\"}\n",
    "    },\n",
    "    \"handlers\": {\n",
    "        \"file_handler\": {\n",
    "            \"class\": \"logging.FileHandler\",\n",
    "            \"level\": \"DEBUG\",\n",
    "            \"filename\": \"file_handler.log\",\n",
    "            \"formatter\": \"simple\"\n",
    "        },\n",
    "        \"strim_handler\": {\n",
    "            \"class\": \"logging.StreamHandler\",\n",
    "            \"level\": \"DEBUG\",\n",
    "            \"formatter\": \"processed\"\n",
    "        }\n",
    "    },\n",
    "    \"loggers\": {\n",
    "        \"\": {\n",
    "            \"level\": \"INFO\",\n",
    "            \"handlers\": [\"file_handler\"]\n",
    "        },\n",
    "        \"total\": {\n",
    "            \"level\": \"DEBUG\",\n",
    "            \"handlers\": [\"file_handler\", \"strim_handler\"]\n",
    "        }\n",
    "    }\n",
    "}\n",
    "\n",
    "logging.config.dictConfig(log_conf)\n",
    "total_logger = logging.getLogger(\"total\")\n",
    "total_logger.debug(\"debug_total\")\n",
    "total_logger.info(\"info_total\")\n",
    "total_logger.error(\"error_total\")\n",
    "\n",
    "root_handler = logging.getLogger()\n",
    "root_handler.debug(\"debug_root\")\n",
    "root_handler.info(\"info_total\")\n",
    "root_handler.error(\"error_root\")"
   ]
  },
  {
   "cell_type": "code",
   "execution_count": null,
   "id": "8094deb2",
   "metadata": {},
   "outputs": [],
   "source": []
  },
  {
   "cell_type": "code",
   "execution_count": 1,
   "id": "94aa290c",
   "metadata": {},
   "outputs": [
    {
     "name": "stderr",
     "output_type": "stream",
     "text": [
      "2022-11-22 11:21:02,249\tERROR\tcustom\tsome_data_error 1000\n"
     ]
    },
    {
     "name": "stdout",
     "output_type": "stream",
     "text": [
      "FILTER: <LogRecord: custom, 40, <ipython-input-1-633683614474>, 20, \"some_data_error %s\">\n",
      "FILTER: <LogRecord: custom, 40, <ipython-input-1-633683614474>, 21, \"fake_some_data_error %s\">\n"
     ]
    }
   ],
   "source": [
    "import logging\n",
    "\n",
    "class CustomFilter(logging.Filter):\n",
    "    def filter(self, record):\n",
    "        print(f\"FILTER: {record}\")\n",
    "        return \"fake\" not in record.msg\n",
    "    \n",
    "logger = logging.getLogger(\"custom\")\n",
    "\n",
    "handler = logging.StreamHandler()\n",
    "\n",
    "formatter = logging.Formatter(\"%(asctime)s\\t%(levelname)s\\t%(name)s\\t%(message)s\")\n",
    "handler.setFormatter(formatter)\n",
    "\n",
    "handler.setLevel(logging.ERROR)\n",
    "handler.addFilter(CustomFilter())\n",
    "logger.addHandler(handler)\n",
    "\n",
    "logger.info(\"some_data_info\")\n",
    "logger.error(\"some_data_error %s\", 1000)\n",
    "logger.error(\"fake_some_data_error %s\", 42)"
   ]
  },
  {
   "cell_type": "code",
   "execution_count": 7,
   "id": "171694e2",
   "metadata": {},
   "outputs": [
    {
     "data": {
      "text/plain": [
       "7"
      ]
     },
     "execution_count": 7,
     "metadata": {},
     "output_type": "execute_result"
    }
   ],
   "source": [
    "import dis\n",
    "\n",
    "\n",
    "\n",
    "def add(a, b, c):\n",
    "    x = a + b\n",
    "    c = abs(c)\n",
    "\n",
    "    res = x + c\n",
    "    \n",
    "    return res\n",
    "\n",
    "add(1, 2, -4)"
   ]
  },
  {
   "cell_type": "code",
   "execution_count": 8,
   "id": "0f5a7140",
   "metadata": {},
   "outputs": [
    {
     "name": "stdout",
     "output_type": "stream",
     "text": [
      "  6           0 LOAD_FAST                0 (a)\n",
      "              2 LOAD_FAST                1 (b)\n",
      "              4 BINARY_ADD\n",
      "              6 STORE_FAST               3 (x)\n",
      "\n",
      "  7           8 LOAD_GLOBAL              0 (abs)\n",
      "             10 LOAD_FAST                2 (c)\n",
      "             12 CALL_FUNCTION            1\n",
      "             14 STORE_FAST               2 (c)\n",
      "\n",
      "  9          16 LOAD_FAST                3 (x)\n",
      "             18 LOAD_FAST                2 (c)\n",
      "             20 BINARY_ADD\n",
      "             22 STORE_FAST               4 (res)\n",
      "\n",
      " 11          24 LOAD_FAST                4 (res)\n",
      "             26 RETURN_VALUE\n"
     ]
    }
   ],
   "source": [
    "dis.dis(add)"
   ]
  },
  {
   "cell_type": "code",
   "execution_count": 9,
   "id": "36f6c926",
   "metadata": {},
   "outputs": [],
   "source": [
    "class A:\n",
    "    pass\n",
    "\n",
    "dis.dis(A)"
   ]
  },
  {
   "cell_type": "code",
   "execution_count": 10,
   "id": "45bf16a7",
   "metadata": {},
   "outputs": [
    {
     "name": "stdout",
     "output_type": "stream",
     "text": [
      "  2           0 LOAD_FAST                0 (x)\n",
      "              2 LOAD_FAST                1 (y)\n",
      "              4 BINARY_ADD\n",
      "              6 RETURN_VALUE\n"
     ]
    }
   ],
   "source": [
    "def add(x, y):\n",
    "    return x + y\n",
    "\n",
    "add_l = lambda x, y: x + y\n",
    "\n",
    "dis.dis(add)"
   ]
  },
  {
   "cell_type": "code",
   "execution_count": 11,
   "id": "98798eed",
   "metadata": {},
   "outputs": [
    {
     "name": "stdout",
     "output_type": "stream",
     "text": [
      "  4           0 LOAD_FAST                0 (x)\n",
      "              2 LOAD_FAST                1 (y)\n",
      "              4 BINARY_ADD\n",
      "              6 RETURN_VALUE\n"
     ]
    }
   ],
   "source": [
    "dis.dis(add_l)"
   ]
  },
  {
   "cell_type": "code",
   "execution_count": 23,
   "id": "f526c322",
   "metadata": {},
   "outputs": [],
   "source": [
    "class Some:\n",
    "    def __init__(self):\n",
    "        self.val = 10\n",
    "    \n",
    "    def calc(self, val):\n",
    "        print(self.val + val)\n",
    "        \n",
    "        self.val = self.update_val(val)\n",
    "        \n",
    "        return self.val\n",
    "    \n",
    "    def update_val(self, val):\n",
    "        x = val ** 2\n",
    "\n",
    "        if self.val < x:\n",
    "            self.val = val\n",
    "        \n",
    "        return\n",
    "    \n",
    "    \n",
    "def some_calc():\n",
    "    some = Some()\n",
    "    import pdb; pdb.set_trace()\n",
    "    \n",
    "    some.calc(5)"
   ]
  },
  {
   "cell_type": "code",
   "execution_count": 24,
   "id": "e6488a10",
   "metadata": {},
   "outputs": [
    {
     "name": "stdout",
     "output_type": "stream",
     "text": [
      "> \u001b[1;32m<ipython-input-23-e1e7df5fa304>\u001b[0m(25)\u001b[0;36msome_calc\u001b[1;34m()\u001b[0m\n",
      "\u001b[1;32m     21 \u001b[1;33m\u001b[1;32mdef\u001b[0m \u001b[0msome_calc\u001b[0m\u001b[1;33m(\u001b[0m\u001b[1;33m)\u001b[0m\u001b[1;33m:\u001b[0m\u001b[1;33m\u001b[0m\u001b[1;33m\u001b[0m\u001b[0m\n",
      "\u001b[0m\u001b[1;32m     22 \u001b[1;33m    \u001b[0msome\u001b[0m \u001b[1;33m=\u001b[0m \u001b[0mSome\u001b[0m\u001b[1;33m(\u001b[0m\u001b[1;33m)\u001b[0m\u001b[1;33m\u001b[0m\u001b[1;33m\u001b[0m\u001b[0m\n",
      "\u001b[0m\u001b[1;32m     23 \u001b[1;33m    \u001b[1;32mimport\u001b[0m \u001b[0mpdb\u001b[0m\u001b[1;33m;\u001b[0m \u001b[0mpdb\u001b[0m\u001b[1;33m.\u001b[0m\u001b[0mset_trace\u001b[0m\u001b[1;33m(\u001b[0m\u001b[1;33m)\u001b[0m\u001b[1;33m\u001b[0m\u001b[1;33m\u001b[0m\u001b[0m\n",
      "\u001b[0m\u001b[1;32m     24 \u001b[1;33m\u001b[1;33m\u001b[0m\u001b[0m\n",
      "\u001b[0m\u001b[1;32m---> 25 \u001b[1;33m    \u001b[0msome\u001b[0m\u001b[1;33m.\u001b[0m\u001b[0mcalc\u001b[0m\u001b[1;33m(\u001b[0m\u001b[1;36m5\u001b[0m\u001b[1;33m)\u001b[0m\u001b[1;33m\u001b[0m\u001b[1;33m\u001b[0m\u001b[0m\n",
      "\u001b[0m\n",
      "ipdb> s\n",
      "--Call--\n",
      "> \u001b[1;32m<ipython-input-23-e1e7df5fa304>\u001b[0m(5)\u001b[0;36mcalc\u001b[1;34m()\u001b[0m\n",
      "\u001b[1;32m      3 \u001b[1;33m        \u001b[0mself\u001b[0m\u001b[1;33m.\u001b[0m\u001b[0mval\u001b[0m \u001b[1;33m=\u001b[0m \u001b[1;36m10\u001b[0m\u001b[1;33m\u001b[0m\u001b[1;33m\u001b[0m\u001b[0m\n",
      "\u001b[0m\u001b[1;32m      4 \u001b[1;33m\u001b[1;33m\u001b[0m\u001b[0m\n",
      "\u001b[0m\u001b[1;32m----> 5 \u001b[1;33m    \u001b[1;32mdef\u001b[0m \u001b[0mcalc\u001b[0m\u001b[1;33m(\u001b[0m\u001b[0mself\u001b[0m\u001b[1;33m,\u001b[0m \u001b[0mval\u001b[0m\u001b[1;33m)\u001b[0m\u001b[1;33m:\u001b[0m\u001b[1;33m\u001b[0m\u001b[1;33m\u001b[0m\u001b[0m\n",
      "\u001b[0m\u001b[1;32m      6 \u001b[1;33m        \u001b[0mprint\u001b[0m\u001b[1;33m(\u001b[0m\u001b[0mself\u001b[0m\u001b[1;33m.\u001b[0m\u001b[0mval\u001b[0m \u001b[1;33m+\u001b[0m \u001b[0mval\u001b[0m\u001b[1;33m)\u001b[0m\u001b[1;33m\u001b[0m\u001b[1;33m\u001b[0m\u001b[0m\n",
      "\u001b[0m\u001b[1;32m      7 \u001b[1;33m\u001b[1;33m\u001b[0m\u001b[0m\n",
      "\u001b[0m\n",
      "ipdb> self.val, val\n",
      "(10, 5)\n",
      "ipdb> n\n",
      "> \u001b[1;32m<ipython-input-23-e1e7df5fa304>\u001b[0m(6)\u001b[0;36mcalc\u001b[1;34m()\u001b[0m\n",
      "\u001b[1;32m      4 \u001b[1;33m\u001b[1;33m\u001b[0m\u001b[0m\n",
      "\u001b[0m\u001b[1;32m      5 \u001b[1;33m    \u001b[1;32mdef\u001b[0m \u001b[0mcalc\u001b[0m\u001b[1;33m(\u001b[0m\u001b[0mself\u001b[0m\u001b[1;33m,\u001b[0m \u001b[0mval\u001b[0m\u001b[1;33m)\u001b[0m\u001b[1;33m:\u001b[0m\u001b[1;33m\u001b[0m\u001b[1;33m\u001b[0m\u001b[0m\n",
      "\u001b[0m\u001b[1;32m----> 6 \u001b[1;33m        \u001b[0mprint\u001b[0m\u001b[1;33m(\u001b[0m\u001b[0mself\u001b[0m\u001b[1;33m.\u001b[0m\u001b[0mval\u001b[0m \u001b[1;33m+\u001b[0m \u001b[0mval\u001b[0m\u001b[1;33m)\u001b[0m\u001b[1;33m\u001b[0m\u001b[1;33m\u001b[0m\u001b[0m\n",
      "\u001b[0m\u001b[1;32m      7 \u001b[1;33m\u001b[1;33m\u001b[0m\u001b[0m\n",
      "\u001b[0m\u001b[1;32m      8 \u001b[1;33m        \u001b[0mself\u001b[0m\u001b[1;33m.\u001b[0m\u001b[0mval\u001b[0m \u001b[1;33m=\u001b[0m \u001b[0mself\u001b[0m\u001b[1;33m.\u001b[0m\u001b[0mupdate_val\u001b[0m\u001b[1;33m(\u001b[0m\u001b[0mval\u001b[0m\u001b[1;33m)\u001b[0m\u001b[1;33m\u001b[0m\u001b[1;33m\u001b[0m\u001b[0m\n",
      "\u001b[0m\n",
      "ipdb> n\n",
      "15\n",
      "> \u001b[1;32m<ipython-input-23-e1e7df5fa304>\u001b[0m(8)\u001b[0;36mcalc\u001b[1;34m()\u001b[0m\n",
      "\u001b[1;32m      6 \u001b[1;33m        \u001b[0mprint\u001b[0m\u001b[1;33m(\u001b[0m\u001b[0mself\u001b[0m\u001b[1;33m.\u001b[0m\u001b[0mval\u001b[0m \u001b[1;33m+\u001b[0m \u001b[0mval\u001b[0m\u001b[1;33m)\u001b[0m\u001b[1;33m\u001b[0m\u001b[1;33m\u001b[0m\u001b[0m\n",
      "\u001b[0m\u001b[1;32m      7 \u001b[1;33m\u001b[1;33m\u001b[0m\u001b[0m\n",
      "\u001b[0m\u001b[1;32m----> 8 \u001b[1;33m        \u001b[0mself\u001b[0m\u001b[1;33m.\u001b[0m\u001b[0mval\u001b[0m \u001b[1;33m=\u001b[0m \u001b[0mself\u001b[0m\u001b[1;33m.\u001b[0m\u001b[0mupdate_val\u001b[0m\u001b[1;33m(\u001b[0m\u001b[0mval\u001b[0m\u001b[1;33m)\u001b[0m\u001b[1;33m\u001b[0m\u001b[1;33m\u001b[0m\u001b[0m\n",
      "\u001b[0m\u001b[1;32m      9 \u001b[1;33m\u001b[1;33m\u001b[0m\u001b[0m\n",
      "\u001b[0m\u001b[1;32m     10 \u001b[1;33m        \u001b[1;32mreturn\u001b[0m \u001b[0mself\u001b[0m\u001b[1;33m.\u001b[0m\u001b[0mval\u001b[0m\u001b[1;33m\u001b[0m\u001b[1;33m\u001b[0m\u001b[0m\n",
      "\u001b[0m\n",
      "ipdb> s\n",
      "--Call--\n",
      "> \u001b[1;32m<ipython-input-23-e1e7df5fa304>\u001b[0m(12)\u001b[0;36mupdate_val\u001b[1;34m()\u001b[0m\n",
      "\u001b[1;32m     10 \u001b[1;33m        \u001b[1;32mreturn\u001b[0m \u001b[0mself\u001b[0m\u001b[1;33m.\u001b[0m\u001b[0mval\u001b[0m\u001b[1;33m\u001b[0m\u001b[1;33m\u001b[0m\u001b[0m\n",
      "\u001b[0m\u001b[1;32m     11 \u001b[1;33m\u001b[1;33m\u001b[0m\u001b[0m\n",
      "\u001b[0m\u001b[1;32m---> 12 \u001b[1;33m    \u001b[1;32mdef\u001b[0m \u001b[0mupdate_val\u001b[0m\u001b[1;33m(\u001b[0m\u001b[0mself\u001b[0m\u001b[1;33m,\u001b[0m \u001b[0mval\u001b[0m\u001b[1;33m)\u001b[0m\u001b[1;33m:\u001b[0m\u001b[1;33m\u001b[0m\u001b[1;33m\u001b[0m\u001b[0m\n",
      "\u001b[0m\u001b[1;32m     13 \u001b[1;33m        \u001b[0mx\u001b[0m \u001b[1;33m=\u001b[0m \u001b[0mval\u001b[0m \u001b[1;33m**\u001b[0m \u001b[1;36m2\u001b[0m\u001b[1;33m\u001b[0m\u001b[1;33m\u001b[0m\u001b[0m\n",
      "\u001b[0m\u001b[1;32m     14 \u001b[1;33m\u001b[1;33m\u001b[0m\u001b[0m\n",
      "\u001b[0m\n",
      "ipdb> s\n",
      "> \u001b[1;32m<ipython-input-23-e1e7df5fa304>\u001b[0m(13)\u001b[0;36mupdate_val\u001b[1;34m()\u001b[0m\n",
      "\u001b[1;32m     11 \u001b[1;33m\u001b[1;33m\u001b[0m\u001b[0m\n",
      "\u001b[0m\u001b[1;32m     12 \u001b[1;33m    \u001b[1;32mdef\u001b[0m \u001b[0mupdate_val\u001b[0m\u001b[1;33m(\u001b[0m\u001b[0mself\u001b[0m\u001b[1;33m,\u001b[0m \u001b[0mval\u001b[0m\u001b[1;33m)\u001b[0m\u001b[1;33m:\u001b[0m\u001b[1;33m\u001b[0m\u001b[1;33m\u001b[0m\u001b[0m\n",
      "\u001b[0m\u001b[1;32m---> 13 \u001b[1;33m        \u001b[0mx\u001b[0m \u001b[1;33m=\u001b[0m \u001b[0mval\u001b[0m \u001b[1;33m**\u001b[0m \u001b[1;36m2\u001b[0m\u001b[1;33m\u001b[0m\u001b[1;33m\u001b[0m\u001b[0m\n",
      "\u001b[0m\u001b[1;32m     14 \u001b[1;33m\u001b[1;33m\u001b[0m\u001b[0m\n",
      "\u001b[0m\u001b[1;32m     15 \u001b[1;33m        \u001b[1;32mif\u001b[0m \u001b[0mself\u001b[0m\u001b[1;33m.\u001b[0m\u001b[0mval\u001b[0m \u001b[1;33m<\u001b[0m \u001b[0mx\u001b[0m\u001b[1;33m:\u001b[0m\u001b[1;33m\u001b[0m\u001b[1;33m\u001b[0m\u001b[0m\n",
      "\u001b[0m\n",
      "ipdb> x\n",
      "*** NameError: name 'x' is not defined\n",
      "ipdb> s\n",
      "> \u001b[1;32m<ipython-input-23-e1e7df5fa304>\u001b[0m(15)\u001b[0;36mupdate_val\u001b[1;34m()\u001b[0m\n",
      "\u001b[1;32m     13 \u001b[1;33m        \u001b[0mx\u001b[0m \u001b[1;33m=\u001b[0m \u001b[0mval\u001b[0m \u001b[1;33m**\u001b[0m \u001b[1;36m2\u001b[0m\u001b[1;33m\u001b[0m\u001b[1;33m\u001b[0m\u001b[0m\n",
      "\u001b[0m\u001b[1;32m     14 \u001b[1;33m\u001b[1;33m\u001b[0m\u001b[0m\n",
      "\u001b[0m\u001b[1;32m---> 15 \u001b[1;33m        \u001b[1;32mif\u001b[0m \u001b[0mself\u001b[0m\u001b[1;33m.\u001b[0m\u001b[0mval\u001b[0m \u001b[1;33m<\u001b[0m \u001b[0mx\u001b[0m\u001b[1;33m:\u001b[0m\u001b[1;33m\u001b[0m\u001b[1;33m\u001b[0m\u001b[0m\n",
      "\u001b[0m\u001b[1;32m     16 \u001b[1;33m            \u001b[0mself\u001b[0m\u001b[1;33m.\u001b[0m\u001b[0mval\u001b[0m \u001b[1;33m=\u001b[0m \u001b[0mval\u001b[0m\u001b[1;33m\u001b[0m\u001b[1;33m\u001b[0m\u001b[0m\n",
      "\u001b[0m\u001b[1;32m     17 \u001b[1;33m\u001b[1;33m\u001b[0m\u001b[0m\n",
      "\u001b[0m\n",
      "ipdb> x\n",
      "25\n",
      "ipdb> self.val < x\n",
      "True\n",
      "ipdb> val, self.val\n",
      "(5, 10)\n",
      "ipdb> s\n",
      "> \u001b[1;32m<ipython-input-23-e1e7df5fa304>\u001b[0m(16)\u001b[0;36mupdate_val\u001b[1;34m()\u001b[0m\n",
      "\u001b[1;32m     14 \u001b[1;33m\u001b[1;33m\u001b[0m\u001b[0m\n",
      "\u001b[0m\u001b[1;32m     15 \u001b[1;33m        \u001b[1;32mif\u001b[0m \u001b[0mself\u001b[0m\u001b[1;33m.\u001b[0m\u001b[0mval\u001b[0m \u001b[1;33m<\u001b[0m \u001b[0mx\u001b[0m\u001b[1;33m:\u001b[0m\u001b[1;33m\u001b[0m\u001b[1;33m\u001b[0m\u001b[0m\n",
      "\u001b[0m\u001b[1;32m---> 16 \u001b[1;33m            \u001b[0mself\u001b[0m\u001b[1;33m.\u001b[0m\u001b[0mval\u001b[0m \u001b[1;33m=\u001b[0m \u001b[0mval\u001b[0m\u001b[1;33m\u001b[0m\u001b[1;33m\u001b[0m\u001b[0m\n",
      "\u001b[0m\u001b[1;32m     17 \u001b[1;33m\u001b[1;33m\u001b[0m\u001b[0m\n",
      "\u001b[0m\u001b[1;32m     18 \u001b[1;33m        \u001b[1;32mreturn\u001b[0m\u001b[1;33m\u001b[0m\u001b[1;33m\u001b[0m\u001b[0m\n",
      "\u001b[0m\n",
      "ipdb> s\n",
      "> \u001b[1;32m<ipython-input-23-e1e7df5fa304>\u001b[0m(18)\u001b[0;36mupdate_val\u001b[1;34m()\u001b[0m\n",
      "\u001b[1;32m     16 \u001b[1;33m            \u001b[0mself\u001b[0m\u001b[1;33m.\u001b[0m\u001b[0mval\u001b[0m \u001b[1;33m=\u001b[0m \u001b[0mval\u001b[0m\u001b[1;33m\u001b[0m\u001b[1;33m\u001b[0m\u001b[0m\n",
      "\u001b[0m\u001b[1;32m     17 \u001b[1;33m\u001b[1;33m\u001b[0m\u001b[0m\n",
      "\u001b[0m\u001b[1;32m---> 18 \u001b[1;33m        \u001b[1;32mreturn\u001b[0m\u001b[1;33m\u001b[0m\u001b[1;33m\u001b[0m\u001b[0m\n",
      "\u001b[0m\u001b[1;32m     19 \u001b[1;33m\u001b[1;33m\u001b[0m\u001b[0m\n",
      "\u001b[0m\u001b[1;32m     20 \u001b[1;33m\u001b[1;33m\u001b[0m\u001b[0m\n",
      "\u001b[0m\n",
      "ipdb> self.val\n",
      "5\n",
      "ipdb> s\n",
      "--Return--\n",
      "None\n",
      "> \u001b[1;32m<ipython-input-23-e1e7df5fa304>\u001b[0m(18)\u001b[0;36mupdate_val\u001b[1;34m()\u001b[0m\n",
      "\u001b[1;32m     16 \u001b[1;33m            \u001b[0mself\u001b[0m\u001b[1;33m.\u001b[0m\u001b[0mval\u001b[0m \u001b[1;33m=\u001b[0m \u001b[0mval\u001b[0m\u001b[1;33m\u001b[0m\u001b[1;33m\u001b[0m\u001b[0m\n",
      "\u001b[0m\u001b[1;32m     17 \u001b[1;33m\u001b[1;33m\u001b[0m\u001b[0m\n",
      "\u001b[0m\u001b[1;32m---> 18 \u001b[1;33m        \u001b[1;32mreturn\u001b[0m\u001b[1;33m\u001b[0m\u001b[1;33m\u001b[0m\u001b[0m\n",
      "\u001b[0m\u001b[1;32m     19 \u001b[1;33m\u001b[1;33m\u001b[0m\u001b[0m\n",
      "\u001b[0m\u001b[1;32m     20 \u001b[1;33m\u001b[1;33m\u001b[0m\u001b[0m\n",
      "\u001b[0m\n",
      "ipdb> s\n",
      "> \u001b[1;32m<ipython-input-23-e1e7df5fa304>\u001b[0m(10)\u001b[0;36mcalc\u001b[1;34m()\u001b[0m\n",
      "\u001b[1;32m      8 \u001b[1;33m        \u001b[0mself\u001b[0m\u001b[1;33m.\u001b[0m\u001b[0mval\u001b[0m \u001b[1;33m=\u001b[0m \u001b[0mself\u001b[0m\u001b[1;33m.\u001b[0m\u001b[0mupdate_val\u001b[0m\u001b[1;33m(\u001b[0m\u001b[0mval\u001b[0m\u001b[1;33m)\u001b[0m\u001b[1;33m\u001b[0m\u001b[1;33m\u001b[0m\u001b[0m\n",
      "\u001b[0m\u001b[1;32m      9 \u001b[1;33m\u001b[1;33m\u001b[0m\u001b[0m\n",
      "\u001b[0m\u001b[1;32m---> 10 \u001b[1;33m        \u001b[1;32mreturn\u001b[0m \u001b[0mself\u001b[0m\u001b[1;33m.\u001b[0m\u001b[0mval\u001b[0m\u001b[1;33m\u001b[0m\u001b[1;33m\u001b[0m\u001b[0m\n",
      "\u001b[0m\u001b[1;32m     11 \u001b[1;33m\u001b[1;33m\u001b[0m\u001b[0m\n",
      "\u001b[0m\u001b[1;32m     12 \u001b[1;33m    \u001b[1;32mdef\u001b[0m \u001b[0mupdate_val\u001b[0m\u001b[1;33m(\u001b[0m\u001b[0mself\u001b[0m\u001b[1;33m,\u001b[0m \u001b[0mval\u001b[0m\u001b[1;33m)\u001b[0m\u001b[1;33m:\u001b[0m\u001b[1;33m\u001b[0m\u001b[1;33m\u001b[0m\u001b[0m\n",
      "\u001b[0m\n",
      "ipdb> s\n",
      "--Return--\n",
      "None\n",
      "> \u001b[1;32m<ipython-input-23-e1e7df5fa304>\u001b[0m(10)\u001b[0;36mcalc\u001b[1;34m()\u001b[0m\n",
      "\u001b[1;32m      8 \u001b[1;33m        \u001b[0mself\u001b[0m\u001b[1;33m.\u001b[0m\u001b[0mval\u001b[0m \u001b[1;33m=\u001b[0m \u001b[0mself\u001b[0m\u001b[1;33m.\u001b[0m\u001b[0mupdate_val\u001b[0m\u001b[1;33m(\u001b[0m\u001b[0mval\u001b[0m\u001b[1;33m)\u001b[0m\u001b[1;33m\u001b[0m\u001b[1;33m\u001b[0m\u001b[0m\n",
      "\u001b[0m\u001b[1;32m      9 \u001b[1;33m\u001b[1;33m\u001b[0m\u001b[0m\n",
      "\u001b[0m\u001b[1;32m---> 10 \u001b[1;33m        \u001b[1;32mreturn\u001b[0m \u001b[0mself\u001b[0m\u001b[1;33m.\u001b[0m\u001b[0mval\u001b[0m\u001b[1;33m\u001b[0m\u001b[1;33m\u001b[0m\u001b[0m\n",
      "\u001b[0m\u001b[1;32m     11 \u001b[1;33m\u001b[1;33m\u001b[0m\u001b[0m\n",
      "\u001b[0m\u001b[1;32m     12 \u001b[1;33m    \u001b[1;32mdef\u001b[0m \u001b[0mupdate_val\u001b[0m\u001b[1;33m(\u001b[0m\u001b[0mself\u001b[0m\u001b[1;33m,\u001b[0m \u001b[0mval\u001b[0m\u001b[1;33m)\u001b[0m\u001b[1;33m:\u001b[0m\u001b[1;33m\u001b[0m\u001b[1;33m\u001b[0m\u001b[0m\n",
      "\u001b[0m\n",
      "ipdb> s\n",
      "--Return--\n",
      "None\n",
      "> \u001b[1;32m<ipython-input-23-e1e7df5fa304>\u001b[0m(25)\u001b[0;36msome_calc\u001b[1;34m()\u001b[0m\n",
      "\u001b[1;32m     21 \u001b[1;33m\u001b[1;32mdef\u001b[0m \u001b[0msome_calc\u001b[0m\u001b[1;33m(\u001b[0m\u001b[1;33m)\u001b[0m\u001b[1;33m:\u001b[0m\u001b[1;33m\u001b[0m\u001b[1;33m\u001b[0m\u001b[0m\n",
      "\u001b[0m\u001b[1;32m     22 \u001b[1;33m    \u001b[0msome\u001b[0m \u001b[1;33m=\u001b[0m \u001b[0mSome\u001b[0m\u001b[1;33m(\u001b[0m\u001b[1;33m)\u001b[0m\u001b[1;33m\u001b[0m\u001b[1;33m\u001b[0m\u001b[0m\n",
      "\u001b[0m\u001b[1;32m     23 \u001b[1;33m    \u001b[1;32mimport\u001b[0m \u001b[0mpdb\u001b[0m\u001b[1;33m;\u001b[0m \u001b[0mpdb\u001b[0m\u001b[1;33m.\u001b[0m\u001b[0mset_trace\u001b[0m\u001b[1;33m(\u001b[0m\u001b[1;33m)\u001b[0m\u001b[1;33m\u001b[0m\u001b[1;33m\u001b[0m\u001b[0m\n",
      "\u001b[0m\u001b[1;32m     24 \u001b[1;33m\u001b[1;33m\u001b[0m\u001b[0m\n",
      "\u001b[0m\u001b[1;32m---> 25 \u001b[1;33m    \u001b[0msome\u001b[0m\u001b[1;33m.\u001b[0m\u001b[0mcalc\u001b[0m\u001b[1;33m(\u001b[0m\u001b[1;36m5\u001b[0m\u001b[1;33m)\u001b[0m\u001b[1;33m\u001b[0m\u001b[1;33m\u001b[0m\u001b[0m\n",
      "\u001b[0m\n",
      "ipdb> c\n"
     ]
    }
   ],
   "source": [
    "some_calc()"
   ]
  },
  {
   "cell_type": "code",
   "execution_count": null,
   "id": "2b998b7d",
   "metadata": {},
   "outputs": [],
   "source": []
  }
 ],
 "metadata": {
  "kernelspec": {
   "display_name": "Python 3",
   "language": "python",
   "name": "python3"
  },
  "language_info": {
   "codemirror_mode": {
    "name": "ipython",
    "version": 3
   },
   "file_extension": ".py",
   "mimetype": "text/x-python",
   "name": "python",
   "nbconvert_exporter": "python",
   "pygments_lexer": "ipython3",
   "version": "3.8.5"
  }
 },
 "nbformat": 4,
 "nbformat_minor": 5
}
